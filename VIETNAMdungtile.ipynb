{
 "cells": [
  {
   "cell_type": "code",
   "execution_count": null,
   "id": "708b899d",
   "metadata": {},
   "outputs": [
    {
     "name": "stdout",
     "output_type": "stream",
     "text": [
      "Nhap chieu dai: 300\n",
      "Nhap chieu rong: 200\n",
      "Nhap chieu dai ngoi sao: 120\n"
     ]
    }
   ],
   "source": [
    "d = int(input('Nhap chieu dai: '))\n",
    "r = int(input('Nhap chieu rong: '))\n",
    "star = int(input('Nhap chieu dai ngoi sao: '))\n",
    "import turtle\n",
    "vn = turtle.Turtle()\n",
    "vn.hideturtle()\n",
    "vn.fillcolor('red')\n",
    "vn.begin_fill()\n",
    "vn.forward(d)\n",
    "vn.right(90)\n",
    "vn.forward(r)\n",
    "vn.right(90)\n",
    "vn.forward(d)\n",
    "vn.right(90)\n",
    "vn.forward(r)\n",
    "vn.end_fill()\n",
    "vn.penup()\n",
    "\n",
    "vn.fillcolor('yellow')\n",
    "vn.begin_fill()\n",
    "vn.setx(d/2)\n",
    "vn.sety(-(r/5))\n",
    "vn.pendown()\n",
    "vn.rt(162)   \n",
    "vn.fillcolor('yellow')\n",
    "vn.begin_fill()\n",
    "vn.color(\"yellow\")\n",
    "vn.shape(\"blank\")  \n",
    "for counter in range(5):\n",
    "    vn.forward(star)                 \n",
    "    vn.right(144)\n",
    "vn.end_fill()\n",
    "turtle.done()"
   ]
  },
  {
   "cell_type": "code",
   "execution_count": null,
   "id": "12d36da5",
   "metadata": {},
   "outputs": [],
   "source": []
  },
  {
   "cell_type": "code",
   "execution_count": null,
   "id": "78c0e696",
   "metadata": {},
   "outputs": [],
   "source": []
  }
 ],
 "metadata": {
  "kernelspec": {
   "display_name": "Python 3 (ipykernel)",
   "language": "python",
   "name": "python3"
  },
  "language_info": {
   "codemirror_mode": {
    "name": "ipython",
    "version": 3
   },
   "file_extension": ".py",
   "mimetype": "text/x-python",
   "name": "python",
   "nbconvert_exporter": "python",
   "pygments_lexer": "ipython3",
   "version": "3.9.12"
  }
 },
 "nbformat": 4,
 "nbformat_minor": 5
}
