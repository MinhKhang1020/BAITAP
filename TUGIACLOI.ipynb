{
 "cells": [
  {
   "cell_type": "code",
   "execution_count": 1,
   "id": "e976a023",
   "metadata": {},
   "outputs": [
    {
     "name": "stdout",
     "output_type": "stream",
     "text": [
      "Nhap hoanh do diem A: 70\n",
      "Nhap tung do diem A: -30\n",
      "Nhap hoanh do diem B: 80\n",
      "Nhap tung do diem B: 40\n",
      "Nhap hoanh do diem C: 10\n",
      "Nhap tung do diem C: 50\n",
      "Nhap hoanh do diem D: 0\n",
      "Nhap tung do diem D: -20\n",
      "Nhap mau ban muon to: Red\n",
      "Tu giac loi:  True\n"
     ]
    }
   ],
   "source": [
    "import math\n",
    "xA = int(input('Nhap hoanh do diem A: '))\n",
    "yA = int(input('Nhap tung do diem A: '))\n",
    "xB = int(input('Nhap hoanh do diem B: '))\n",
    "yB = int(input('Nhap tung do diem B: '))\n",
    "xC = int(input('Nhap hoanh do diem C: '))\n",
    "yC = int(input('Nhap tung do diem C: '))\n",
    "xD = int(input('Nhap hoanh do diem D: '))\n",
    "yD = int(input('Nhap tung do diem D: '))\n",
    "cl = input('Nhap mau ban muon to: ')\n",
    "\n",
    "AB = math.sqrt((xB-xA)**2 + (yB-yA)**2)\n",
    "AC = math.sqrt((xC-xA)**2 + (yC-yA)**2)\n",
    "AD = math.sqrt((xD-xA)**2 + (yD-yA)**2)\n",
    "BC = math.sqrt((xC-xB)**2 + (yC-yD)**2)\n",
    "BD = math.sqrt((xD-xB)**2 + (yD-yC)**2)\n",
    "CD = math.sqrt((xD-xC)**2 + (yD-yC)**2)\n",
    "\n",
    "cosA = (AB**2 + AD**2 - BD**2)/(2*AB*AD)\n",
    "cosB = (BC**2 + AB**2 - AC**2)/(2*BC*AB)\n",
    "cosC = (BC**2 + CD**2 - BD**2)/(2*BC*CD)\n",
    "cosD = (CD**2 + AD**2 - AC**2)/(2*CD*AD)\n",
    "Tugiacloi = (cosA>-1 and cosA<1) and (cosB>-1 and cosB<1) and (cosC>-1 and cosC<1) and (cosD>-1 and cosD<1)\n",
    "\n",
    "print('Tu giac loi: ', Tugiacloi)\n",
    "\n",
    "import turtle\n",
    "n = turtle.Turtle()\n",
    "n.begin_fill()\n",
    "n.penup()\n",
    "n.setpos(int(xA), int(yA))\n",
    "n.pendown()\n",
    "n.fillcolor(cl)\n",
    "n.goto(int(xB), int(yB))\n",
    "n.goto(int(xC), int(yC))\n",
    "n.goto(int(xD), int(yD))\n",
    "n.goto(int(xA), int(yA))\n",
    "n.end_fill()\n",
    "turtle.done()\n"
   ]
  },
  {
   "cell_type": "code",
   "execution_count": null,
   "id": "687fe8ca",
   "metadata": {},
   "outputs": [],
   "source": []
  },
  {
   "cell_type": "code",
   "execution_count": null,
   "id": "cdcf544e",
   "metadata": {},
   "outputs": [],
   "source": []
  }
 ],
 "metadata": {
  "kernelspec": {
   "display_name": "Python 3 (ipykernel)",
   "language": "python",
   "name": "python3"
  },
  "language_info": {
   "codemirror_mode": {
    "name": "ipython",
    "version": 3
   },
   "file_extension": ".py",
   "mimetype": "text/x-python",
   "name": "python",
   "nbconvert_exporter": "python",
   "pygments_lexer": "ipython3",
   "version": "3.9.12"
  }
 },
 "nbformat": 4,
 "nbformat_minor": 5
}
