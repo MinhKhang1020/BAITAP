{
 "cells": [
  {
   "cell_type": "code",
   "execution_count": 2,
   "id": "58b66066",
   "metadata": {},
   "outputs": [
    {
     "name": "stdout",
     "output_type": "stream",
     "text": [
      "Nhập thu nhập tính thuế: 30000000\n",
      "Thuế TNCN phải đóng là:  6000000.0 VND\n",
      "Tong thu nhap ban than: 30000000\n",
      "Nhap so nguoi phu thuoc: 3\n",
      "Thuế TNCN phải đóng sau khi giảm trừ là:  200000.0 VNĐ\n"
     ]
    }
   ],
   "source": [
    "#Bài 1\n",
    "t = int(input('Nhập thu nhập tính thuế: '))\n",
    "\n",
    "if 0<t<=5000000:\n",
    "    thue = t * (5/100)\n",
    "elif 5000000<t<=10000000:\n",
    "    thue = t * (10/100)\n",
    "elif 10000000<t<=18000000:\n",
    "    thue = t * (18/100)\n",
    "elif 18000000<t<=32000000:\n",
    "    thue = t * (20/100)\n",
    "elif 32000000<t<=52000000:\n",
    "    thue = t * (25/100)\n",
    "elif 52000000<t<=80000000:\n",
    "    thue = t * (30/100)\n",
    "elif 80000000<t:\n",
    "    thue = t * (35/100)\n",
    "print('Thuế TNCN phải đóng là: ',thue,'VND')\n",
    "a = 11000000\n",
    "b = 4400000\n",
    "Tongthunhap = input('Tong thu nhap ban than: ')\n",
    "Songuoiphuthuoc = input('Nhap so nguoi phu thuoc: ')\n",
    "thunhap = int(Tongthunhap) - int(a) - int(Songuoiphuthuoc) * int(b)\n",
    "ThueTNCN = thue - thunhap\n",
    "print('Thuế TNCN phải đóng sau khi giảm trừ là: ',ThueTNCN, 'VNĐ')\n"
   ]
  },
  {
   "cell_type": "code",
   "execution_count": 3,
   "id": "01570cda",
   "metadata": {},
   "outputs": [
    {
     "name": "stdout",
     "output_type": "stream",
     "text": [
      "Nhập xP: 3\n",
      "Nhập yP: 1\n",
      "Điểm P nằm trong vùng D\n"
     ]
    }
   ],
   "source": [
    "#Bài 2\n",
    "x = int(input('Nhập xP: '))\n",
    "y = int(input('Nhập yP: '))\n",
    "if -2<x<6 and -2<y<2:\n",
    "    print('Điểm P nằm trong vùng D')\n",
    "else:\n",
    "    print('Điểm P không nằm trong vùng D')"
   ]
  },
  {
   "cell_type": "code",
   "execution_count": null,
   "id": "fbaf233f",
   "metadata": {},
   "outputs": [],
   "source": []
  }
 ],
 "metadata": {
  "kernelspec": {
   "display_name": "Python 3 (ipykernel)",
   "language": "python",
   "name": "python3"
  },
  "language_info": {
   "codemirror_mode": {
    "name": "ipython",
    "version": 3
   },
   "file_extension": ".py",
   "mimetype": "text/x-python",
   "name": "python",
   "nbconvert_exporter": "python",
   "pygments_lexer": "ipython3",
   "version": "3.9.12"
  }
 },
 "nbformat": 4,
 "nbformat_minor": 5
}
