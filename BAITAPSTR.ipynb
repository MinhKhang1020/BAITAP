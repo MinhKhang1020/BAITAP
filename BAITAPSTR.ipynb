{
 "cells": [
  {
   "cell_type": "code",
   "execution_count": 11,
   "id": "652d44f3",
   "metadata": {},
   "outputs": [
    {
     "name": "stdout",
     "output_type": "stream",
     "text": [
      "Phạm Minh Khang\n"
     ]
    }
   ],
   "source": [
    "name = '   pHạM minH KhAnG '\n",
    "name = name.lower()\n",
    "name = name.strip()\n",
    "a = name.title()\n",
    "print(a)"
   ]
  },
  {
   "cell_type": "code",
   "execution_count": 5,
   "id": "4fd6ffff",
   "metadata": {},
   "outputs": [
    {
     "name": "stdout",
     "output_type": "stream",
     "text": [
      "Nhap chuoi: 35a8w54f8a45d\n",
      "Tong so chan la:  24\n",
      "Tong so le la:  18\n"
     ]
    }
   ],
   "source": [
    "k = str(input('Nhap chuoi: '))\n",
    "le = k.count('1')*1 + k.count('3')*3 + k.count('5')*5 + k.count('7')*7 + k.count('9')*9\n",
    "chan = k.count('2')*2 + k.count('4')*4 + k.count('6')*6 + k.count('8')*8\n",
    "print('Tong so chan la: ',chan)\n",
    "print('Tong so le la: ',le)"
   ]
  },
  {
   "cell_type": "code",
   "execution_count": null,
   "id": "65c2488c",
   "metadata": {},
   "outputs": [],
   "source": []
  }
 ],
 "metadata": {
  "kernelspec": {
   "display_name": "Python 3 (ipykernel)",
   "language": "python",
   "name": "python3"
  },
  "language_info": {
   "codemirror_mode": {
    "name": "ipython",
    "version": 3
   },
   "file_extension": ".py",
   "mimetype": "text/x-python",
   "name": "python",
   "nbconvert_exporter": "python",
   "pygments_lexer": "ipython3",
   "version": "3.9.12"
  }
 },
 "nbformat": 4,
 "nbformat_minor": 5
}
