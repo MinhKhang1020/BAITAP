{
 "cells": [
  {
   "cell_type": "code",
   "execution_count": 5,
   "id": "bfc77e05",
   "metadata": {},
   "outputs": [
    {
     "name": "stdout",
     "output_type": "stream",
     "text": [
      "Nhập họ tên cần tìm: Nguyễn thị ngọc hân\n",
      "Nguyen Thi Ngoc Han\n"
     ]
    }
   ],
   "source": [
    "name = input('Nhập họ tên cần tìm: ')\n",
    "a1 = 'áàảãạấầẩẫậắằẳẵặâă'\n",
    "a2 = 'ÁÀẢÃẠẤẦẨẪẬẮẰẲẴẶÂĂ'\n",
    "e1 = 'éèẻẽẹếềểễệê'\n",
    "e2 = 'ÉÈẺẼẸẾỀỂỄỆÊ'\n",
    "u1 = 'úùủũụứừửữựư'\n",
    "u2 = 'ÚÙỦŨỤỨỪỬỮỰƯ'\n",
    "i1 = 'íìỉĩị'\n",
    "i2 = 'ÍÌỈĨỊ'\n",
    "o1 = 'óòỏõọốồổỗộớờởỡợôơ'\n",
    "o2 = 'ÓÒỎÕỌỐỒỔỖỘỚỜỞỠỢÔƠ'\n",
    "d1 = 'đ'\n",
    "d2 = 'Đ'\n",
    "newname = ''\n",
    "for i in name:\n",
    "    if i in a1:\n",
    "        newname += 'a'\n",
    "    elif i in a2:\n",
    "        newname += 'A'\n",
    "    elif i in e1:\n",
    "        newname += 'e'\n",
    "    elif i in e2:\n",
    "        newname += 'E'\n",
    "    elif i in u1:\n",
    "        newname += 'u'\n",
    "    elif i in u2:\n",
    "        newname += 'U'\n",
    "    elif i in i1:\n",
    "        newname += 'i'\n",
    "    elif i in i2:\n",
    "        newname += 'I'\n",
    "    elif i in o1:\n",
    "        newname += 'o'\n",
    "    elif i in o2:\n",
    "        newname += 'O'\n",
    "    elif i in d1:\n",
    "        newname += 'd'\n",
    "    elif i in d2:\n",
    "        newname += 'D'\n",
    "    else:\n",
    "        newname += i\n",
    "print(newname.title())\n",
    "        "
   ]
  },
  {
   "cell_type": "code",
   "execution_count": 19,
   "id": "a4110336",
   "metadata": {},
   "outputs": [
    {
     "name": "stdout",
     "output_type": "stream",
     "text": [
      "[[1, 2, 3, 4, 5, 6, 7], [8, 9, 10, 11, 12, 13, 14], [15, 16, 17, 18, 19, 20, 21], [22, 23, 24, 25, 26, 27, 28], [29, 30, 31, 0, 0, 0, 0]]\n",
      "Số tuần chẵn là:  4\n",
      "Số tuần lẻ là:  1\n"
     ]
    }
   ],
   "source": [
    "#Bài 2: Trong các công ty sản xuất, thời gian trong tháng được chia làm các tuần. \n",
    "#Tuần đầy đủ (gọi là tuần chẵn) được tính từ thứ 2 đến chủ nhật (có đầy đủ các ngày), \n",
    "#còn tuần lẻ là các tuần không đủ 7 ngày. \n",
    "#Nhập vào tháng và năm, tính số tuần (bao gồm chẵn và lẻ) trong tháng đó.\n",
    "import calendar\n",
    "x = 0\n",
    "y = 0\n",
    "m = calendar.monthcalendar(2022,8)\n",
    "print(m)\n",
    "for i in m:\n",
    "    n = 0\n",
    "    for a in i:\n",
    "        if a == 0:\n",
    "            n+=1\n",
    "    if n>0:\n",
    "        y+=1\n",
    "    else:\n",
    "        x+=1\n",
    "print('Số tuần chẵn là: ',x)\n",
    "print('Số tuần lẻ là: ',y)\n",
    "        \n",
    "        \n",
    "        "
   ]
  },
  {
   "cell_type": "code",
   "execution_count": null,
   "id": "7ccbb80e",
   "metadata": {},
   "outputs": [],
   "source": []
  }
 ],
 "metadata": {
  "kernelspec": {
   "display_name": "Python 3 (ipykernel)",
   "language": "python",
   "name": "python3"
  },
  "language_info": {
   "codemirror_mode": {
    "name": "ipython",
    "version": 3
   },
   "file_extension": ".py",
   "mimetype": "text/x-python",
   "name": "python",
   "nbconvert_exporter": "python",
   "pygments_lexer": "ipython3",
   "version": "3.9.12"
  }
 },
 "nbformat": 4,
 "nbformat_minor": 5
}
