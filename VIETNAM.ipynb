{
 "cells": [
  {
   "cell_type": "code",
   "execution_count": null,
   "id": "708b899d",
   "metadata": {},
   "outputs": [],
   "source": [
    "import turtle\n",
    "vn = turtle.Turtle()\n",
    "vn.hideturtle()\n",
    "vn.fillcolor('red')\n",
    "vn.begin_fill()\n",
    "vn.forward(320)\n",
    "vn.right(90)\n",
    "vn.forward(200)\n",
    "vn.right(90)\n",
    "vn.forward(320)\n",
    "vn.right(90)\n",
    "vn.forward(200)\n",
    "vn.end_fill()\n",
    "vn.backward(90)\n",
    "vn.right(90)\n",
    "vn.penup()\n",
    "vn.forward(125)\n",
    "vn.pendown()\n",
    "vn.fillcolor('yellow')\n",
    "vn.begin_fill()\n",
    "vn.forward(70)\n",
    "vn.right(144)\n",
    "vn.forward(70)\n",
    "vn.right(144)\n",
    "vn.forward(70)\n",
    "vn.right(144)\n",
    "vn.forward(70)\n",
    "vn.right(144)\n",
    "vn.forward(70)\n",
    "vn.right(144)\n",
    "vn.end_fill()\n",
    "turtle.done()"
   ]
  }
 ],
 "metadata": {
  "kernelspec": {
   "display_name": "Python 3 (ipykernel)",
   "language": "python",
   "name": "python3"
  },
  "language_info": {
   "codemirror_mode": {
    "name": "ipython",
    "version": 3
   },
   "file_extension": ".py",
   "mimetype": "text/x-python",
   "name": "python",
   "nbconvert_exporter": "python",
   "pygments_lexer": "ipython3",
   "version": "3.9.12"
  }
 },
 "nbformat": 4,
 "nbformat_minor": 5
}
