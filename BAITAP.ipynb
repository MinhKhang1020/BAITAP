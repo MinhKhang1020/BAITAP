{
 "cells": [
  {
   "cell_type": "code",
   "execution_count": 1,
   "id": "faaf66b9",
   "metadata": {},
   "outputs": [
    {
     "name": "stdout",
     "output_type": "stream",
     "text": [
      "Tong thu nhap trong thang cua ban than: 15000000\n",
      "Nhap so nguoi phu thuoc: 1\n",
      "-400000\n"
     ]
    }
   ],
   "source": [
    "#Bai1\n",
    "Giamtrugiacanhbanthan = 11000000\n",
    "Giamtrugiacanhphuthuoc = 4400000\n",
    "Tongthunhap = input('Tong thu nhap trong thang cua ban than: ')\n",
    "Songuoiphuthuoc = input('Nhap so nguoi phu thuoc: ')\n",
    "ThunhaptinhthueTNCN = int(Tongthunhap) - int(Giamtrugiacanhbanthan) - int(Songuoiphuthuoc) * int(Giamtrugiacanhphuthuoc)\n",
    "print(ThunhaptinhthueTNCN)"
   ]
  },
  {
   "cell_type": "code",
   "execution_count": 1,
   "id": "4707ec0a",
   "metadata": {},
   "outputs": [
    {
     "name": "stdout",
     "output_type": "stream",
     "text": [
      "Nhap hoanh do diem A: 5\n",
      "Nhap tung do diem A: 6\n",
      "Nhap hoanh do diem B: 4\n",
      "Nhap tung do diem B: -1\n",
      "Nhap hoanh do diem C: -4\n",
      "Nhap tung do diem C: 3\n",
      "Hoanh do diem D la: -3 Tung do diem D la: 10\n"
     ]
    }
   ],
   "source": [
    "#Bai2\n",
    "xA = input('Nhap hoanh do diem A: ')\n",
    "yA = input('Nhap tung do diem A: ')\n",
    "xB = input('Nhap hoanh do diem B: ')\n",
    "yB = input('Nhap tung do diem B: ')\n",
    "xC = input('Nhap hoanh do diem C: ')\n",
    "yC = input('Nhap tung do diem C: ')\n",
    "xAB = int(xB) - int(xA)\n",
    "yAB = int(yB) - int(yA)\n",
    "xD = int(xC) - int(xAB)\n",
    "yD = int(yC) - int(yAB)\n",
    "print('Hoanh do diem D la: ' + str(xD) + ' Tung do diem D la: ' + str(yD))\n",
    "\n",
    "import turtle\n",
    "n = turtle.Turtle()\n",
    "n.penup()\n",
    "n.setpos(int(xA), int(yA))\n",
    "n.pendown()\n",
    "n.fillcolor('Green')\n",
    "n.begin_fill()\n",
    "n.goto(int(xB), int(yB))\n",
    "n.goto(int(xC), int(yC))\n",
    "n.end_fill()\n",
    "n.fillcolor('Blue')\n",
    "n.begin_fill()\n",
    "n.goto(int(xD), int(yD))\n",
    "n.end_fill()\n",
    "n.goto(int(xA), int(yA))\n",
    "turtle.done()\n",
    "\n"
   ]
  },
  {
   "cell_type": "code",
   "execution_count": null,
   "id": "62f86464",
   "metadata": {},
   "outputs": [],
   "source": []
  },
  {
   "cell_type": "code",
   "execution_count": null,
   "id": "c56f5415",
   "metadata": {},
   "outputs": [],
   "source": []
  },
  {
   "cell_type": "code",
   "execution_count": null,
   "id": "a9a973ad",
   "metadata": {},
   "outputs": [],
   "source": []
  }
 ],
 "metadata": {
  "kernelspec": {
   "display_name": "Python 3 (ipykernel)",
   "language": "python",
   "name": "python3"
  },
  "language_info": {
   "codemirror_mode": {
    "name": "ipython",
    "version": 3
   },
   "file_extension": ".py",
   "mimetype": "text/x-python",
   "name": "python",
   "nbconvert_exporter": "python",
   "pygments_lexer": "ipython3",
   "version": "3.9.12"
  }
 },
 "nbformat": 4,
 "nbformat_minor": 5
}
