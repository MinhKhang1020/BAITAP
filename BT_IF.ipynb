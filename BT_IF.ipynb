{
 "cells": [
  {
   "cell_type": "code",
   "execution_count": 6,
   "id": "53db81fe",
   "metadata": {},
   "outputs": [
    {
     "name": "stdout",
     "output_type": "stream",
     "text": [
      "Nhập vào số điện tiêu dùng trong tháng: 2\n",
      "Số tiền điện cần trả trong tháng là:  3356 VNĐ\n"
     ]
    }
   ],
   "source": [
    "e = int(input('Nhập vào số điện tiêu dùng trong tháng: '))\n",
    "money = ('tien dien phai tra')\n",
    "if e<=50 and e>0:\n",
    "    money = e*1678\n",
    "elif e>50 and e<=100:\n",
    "    money = (e-50)*1734 +  50*1678\n",
    "elif e>100 and e<=200:\n",
    "    money = (e-100)*2014 + 50*1734 + 50*1678\n",
    "elif e>200 and e<=300:\n",
    "    money = (e-200)*2356 + 100*2014 + 50*1734 + 50*1678\n",
    "elif e>300 and e<=400:\n",
    "    money = (e-300)*2834 + 100*2356 + 100*2014 + 50*1734 + 50*1678\n",
    "else:\n",
    "    money = (e-400)*2927 + 100*2834 + 100*2356 + 100*2014 + 50*1734 + 50*1678\n",
    "print('Số tiền điện cần trả trong tháng là: ',money, 'VNĐ')\n",
    "    \n",
    "    "
   ]
  },
  {
   "cell_type": "code",
   "execution_count": 12,
   "id": "2b9e4218",
   "metadata": {},
   "outputs": [
    {
     "name": "stdout",
     "output_type": "stream",
     "text": [
      "a = -1\n",
      "b = 1\n",
      "c = 0\n",
      "-x^2 + x \n"
     ]
    }
   ],
   "source": [
    "a = int(input('a = '))\n",
    "b = int(input('b = '))\n",
    "c = int(input('c = '))\n",
    "A = str(a)+'x^2'\n",
    "B = str(b)+'x'\n",
    "C = str(c)\n",
    "if a==0:\n",
    "    A = ''\n",
    "elif a==-1:\n",
    "    A = '-x^2'\n",
    "elif a==1:\n",
    "    A = 'x^2'\n",
    "if b==0:\n",
    "    B = ''\n",
    "elif b==1:\n",
    "    B = '+ x'\n",
    "elif b==-1:\n",
    "    B = '-x'\n",
    "if c==0:\n",
    "    C = ''\n",
    "print(A,B,C)\n",
    "    "
   ]
  },
  {
   "cell_type": "code",
   "execution_count": null,
   "id": "5eb40d8c",
   "metadata": {},
   "outputs": [],
   "source": []
  }
 ],
 "metadata": {
  "kernelspec": {
   "display_name": "Python 3 (ipykernel)",
   "language": "python",
   "name": "python3"
  },
  "language_info": {
   "codemirror_mode": {
    "name": "ipython",
    "version": 3
   },
   "file_extension": ".py",
   "mimetype": "text/x-python",
   "name": "python",
   "nbconvert_exporter": "python",
   "pygments_lexer": "ipython3",
   "version": "3.9.12"
  }
 },
 "nbformat": 4,
 "nbformat_minor": 5
}
