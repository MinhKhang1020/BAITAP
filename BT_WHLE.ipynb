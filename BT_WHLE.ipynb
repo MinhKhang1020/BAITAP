{
 "cells": [
  {
   "cell_type": "code",
   "execution_count": 9,
   "id": "1f38ab35",
   "metadata": {},
   "outputs": [
    {
     "name": "stdout",
     "output_type": "stream",
     "text": [
      "Nhập mã vạch cần kiểm tra: 4902778120973\n",
      "Mã vạch sai\n"
     ]
    }
   ],
   "source": [
    "n = input('Nhập mã vạch cần kiểm tra: ')\n",
    "i = 1\n",
    "A = 0\n",
    "B = 0\n",
    "while i<13:\n",
    "    if i%2 == 0:\n",
    "        B = B + int(n[i-1])\n",
    "        i += 1\n",
    "    elif i%2 != 0:\n",
    "        A = A + int(n[i-1])\n",
    "        i += 1\n",
    "D = A + 3*B\n",
    "if D%10 != 0:\n",
    "    F = 10 - D%10\n",
    "else:\n",
    "    F = 0\n",
    "if F == int(n[i-1]):\n",
    "    print('Mã vạch đúng')\n",
    "else:\n",
    "    print('Mã vạch sai')"
   ]
  },
  {
   "cell_type": "code",
   "execution_count": 12,
   "id": "38b4ef87",
   "metadata": {},
   "outputs": [
    {
     "name": "stdout",
     "output_type": "stream",
     "text": [
      "Nhập số tự nhiên N: 10\n",
      "Kết quả:  3\n",
      "Kết quả:  9\n"
     ]
    }
   ],
   "source": [
    "N = int(input('Nhập số tự nhiên N: '))\n",
    "i = 0\n",
    "while i<N:\n",
    "    if i%3==0 and i%6!=0:\n",
    "        print('Kết quả: ', i)\n",
    "    i+=1"
   ]
  },
  {
   "cell_type": "code",
   "execution_count": null,
   "id": "3e3b9b57",
   "metadata": {},
   "outputs": [],
   "source": []
  }
 ],
 "metadata": {
  "kernelspec": {
   "display_name": "Python 3 (ipykernel)",
   "language": "python",
   "name": "python3"
  },
  "language_info": {
   "codemirror_mode": {
    "name": "ipython",
    "version": 3
   },
   "file_extension": ".py",
   "mimetype": "text/x-python",
   "name": "python",
   "nbconvert_exporter": "python",
   "pygments_lexer": "ipython3",
   "version": "3.9.12"
  }
 },
 "nbformat": 4,
 "nbformat_minor": 5
}
